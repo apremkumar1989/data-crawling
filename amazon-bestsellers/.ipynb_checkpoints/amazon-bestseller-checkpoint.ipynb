{
 "cells": [
  {
   "cell_type": "code",
   "execution_count": null,
   "metadata": {
    "collapsed": true
   },
   "outputs": [],
   "source": [
    "import pandas as pd\n",
    "from bs4 import BeautifulSoup\n",
    "import urllib2\n",
    "import json"
   ]
  },
  {
   "cell_type": "code",
   "execution_count": null,
   "metadata": {
    "collapsed": true
   },
   "outputs": [],
   "source": [
    "def getBestSellerCategories():\n",
    "    bsp = urllib2.urlopen(\"http://www.amazon.in/gp/bestsellers/\").read();\n",
    "    soup = BeautifulSoup(bsp,'html.parser')\n",
    "    browseRoot = soup.find(id=\"zg_browseRoot\")\n",
    "    catAHref = browseRoot.find('ul').find_all('a')\n",
    "    bs_categories = []\n",
    "    for ch in catAHref:\n",
    "        bs_categories.append((ch.text,ch.attrs['href']))\n",
    "    bsc = pd.DataFrame(columns=['Name','BestSellerLink'])\n",
    "    bsc.Name = [b[0] for b in bs_categories]\n",
    "    bsc.BestSellerLink = [b[1] for b in bs_categories]\n",
    "    return bsc\n",
    "    "
   ]
  },
  {
   "cell_type": "code",
   "execution_count": null,
   "metadata": {
    "collapsed": true
   },
   "outputs": [],
   "source": [
    "bsc = getBestSellerCategories()"
   ]
  },
  {
   "cell_type": "code",
   "execution_count": null,
   "metadata": {
    "collapsed": false
   },
   "outputs": [],
   "source": [
    "bsc.to_csv('output/bestseller_links.csv',index=False)\n",
    "bsc.to_json('output/bestseller_links.json',orient='records')"
   ]
  },
  {
   "cell_type": "code",
   "execution_count": null,
   "metadata": {
    "collapsed": false
   },
   "outputs": [],
   "source": [
    "def getCategoryBestSellers(link):\n",
    "    items = []\n",
    "    page_count = 1\n",
    "    cur_page = 1\n",
    "    while cur_page <= page_count:\n",
    "        html = urllib2.urlopen(link).read()\n",
    "        soup = BeautifulSoup(html,'html.parser')\n",
    "        page_count = len(soup.find(id='zg_paginationWrapper').select('ol li'))\n",
    "        items_divs = soup.find(id='zg_centerListWrapper').select('div.zg_itemImmersion')\n",
    "\n",
    "        for item_div in items_divs:\n",
    "            #print len(items)+1\n",
    "            if len(item_div.select('.p13n-asin'))<1:\n",
    "                #print 'skipping this above number'\n",
    "                continue\n",
    "            item = {}\n",
    "            item['rank'] = item_div.select('span.zg_rankNumber')[0].text.replace('\\n','').replace(' ','').replace('.','');\n",
    "            item['asin'] = json.loads(item_div.select('.p13n-asin')[0].attrs['data-p13n-asin-metadata'])['asin']\n",
    "            item['img'] = item_div.select('.p13n-asin div.a-section img')[0].attrs['src']\n",
    "            item['link'] = item_div.select('.p13n-asin a')[0].attrs['href']\n",
    "            item['name'] = item_div.select('.p13n-asin div.a-section img')[0].attrs['alt']\n",
    "            rating_ele = item_div.select('.p13n-asin * span.a-icon-alt')\n",
    "            item['rating'] = rating_ele[0].text.split()[0] if len(rating_ele)>0 else None\n",
    "            review_ele = item_div.select('.p13n-asin * a.a-size-small')\n",
    "            item['review_count'] = review_ele[0].text if len(review_ele)>0 else None\n",
    "            item['reviews_link'] = review_ele[0].attrs['href'] if len(review_ele)>0 else None\n",
    "            price_ele = item_div.select('.p13n-asin * span.p13n-sc-price')\n",
    "            item['price'] = price_ele[0].text.split()[-1] if len(price_ele) > 0 else None\n",
    "\n",
    "            items.append(item)\n",
    "        cur_page = cur_page + 1;\n",
    "        if cur_page <= page_count:\n",
    "            link = soup.find(id='zg_paginationWrapper').select('ol li')[cur_page-1].select('a')[0].attrs['href']\n",
    "    return items"
   ]
  },
  {
   "cell_type": "code",
   "execution_count": null,
   "metadata": {
    "collapsed": false
   },
   "outputs": [],
   "source": [
    "products = []\n",
    "for index, row in bsc.iterrows():\n",
    "    print row['Name']\n",
    "    category_products = getCategoryBestSellers(row['BestSellerLink'])\n",
    "    for p in category_products:\n",
    "        p['root_category'] = row['Name']\n",
    "    products.extend(category_products)"
   ]
  },
  {
   "cell_type": "code",
   "execution_count": null,
   "metadata": {
    "collapsed": false
   },
   "outputs": [],
   "source": [
    "prod_df = pd.read_json(json.dumps(products),orient='records')"
   ]
  },
  {
   "cell_type": "code",
   "execution_count": null,
   "metadata": {
    "collapsed": false
   },
   "outputs": [],
   "source": [
    "prod_df.to_csv('output/bestseller_products.csv',index=False,encoding='utf-8')\n",
    "prod_df.to_json('output/bestseller_products.json',orient='records')"
   ]
  },
  {
   "cell_type": "code",
   "execution_count": null,
   "metadata": {
    "collapsed": true
   },
   "outputs": [],
   "source": []
  }
 ],
 "metadata": {
  "kernelspec": {
   "display_name": "Python 2",
   "language": "python",
   "name": "python2"
  },
  "language_info": {
   "codemirror_mode": {
    "name": "ipython",
    "version": 2
   },
   "file_extension": ".py",
   "mimetype": "text/x-python",
   "name": "python",
   "nbconvert_exporter": "python",
   "pygments_lexer": "ipython2",
   "version": "2.7.10"
  }
 },
 "nbformat": 4,
 "nbformat_minor": 0
}
